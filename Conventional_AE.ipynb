{
 "cells": [
  {
   "cell_type": "markdown",
   "source": [
    "# Conventional Autoencoder\n",
    "This notebook will present to the user how a conventional autoencoder can be generated, trained and its performance tested. Moreover, it will be discussed how to load an already saved trained AE in case there is not enough time to prepare an entire new model.\n",
    "\n",
    "The first step is to call the ClassAE class in order to have available all type of functions that could be needed while working with the AE"
   ],
   "metadata": {
    "collapsed": false,
    "pycharm": {
     "name": "#%% md\n"
    }
   }
  },
  {
   "cell_type": "code",
   "execution_count": 2,
   "outputs": [],
   "source": [
    "from FlowCompression.ClassAE import AE"
   ],
   "metadata": {
    "collapsed": false,
    "pycharm": {
     "name": "#%%\n"
    }
   }
  },
  {
   "cell_type": "markdown",
   "source": [
    "In order to train the autoencoder, a data set is required. This can be loaded using the built-in function 'preprocess' from ClassAE. This method loads a certain data set based on the Reynolds Number and the dimensions requested by the user. Once that is done it splits the entire time series into a train, validation and test data set. It is very important to split in three parts in order to perform a fair tuning. The way the function has been implemented leads 75% of the time series to be the train set, 20% to be the validation set and 5% to be used as test set. When calling the function, the user can set other two parameters to True or False: split, which determines if the time series should be divided as presented above or if kept as it is, and norm, which if set to True performs the normalization of the velocity fields. Before getting into the code, it is important to remind the default parameters of the function:\n",
    "- u_all = None (in case a time series has already been loaded)\n",
    "- re = 40.0 (Reynolds number)\n",
    "- nx = 24 (x and y dimensions of a frame)\n",
    "- nu = 2 (dimension of the velocity vector)\n",
    "- split = True\n",
    "- norm = True\n",
    "\n",
    "Here below the call to create the three data set is presented:"
   ],
   "metadata": {
    "collapsed": false,
    "pycharm": {
     "name": "#%% md\n"
    }
   }
  },
  {
   "cell_type": "code",
   "execution_count": 3,
   "outputs": [],
   "source": [
    "u_train, u_val, u_test = AE.preprocess()"
   ],
   "metadata": {
    "collapsed": false,
    "pycharm": {
     "name": "#%%\n"
    }
   }
  },
  {
   "cell_type": "markdown",
   "source": [
    "Now the autoencoder can be created and some of its attributes can be initialised. This is important since those are used in most of the built-in methods. For the class AE, multiple parameters are present and these are explained below with their default values:\n",
    "- dimensions: dimensions of the layers of the NN -> [32,16,8,4]\n",
    "- l_rate: learning rate -> 0.0005\n",
    "- epochs: number of epochs -> 200\n",
    "- batch: batch size -> 10\n",
    "- early_stopping: number of steps with same loss before stopping training -> 10\n",
    "- re: Reynolds number -> 40.0\n",
    "- nx: x and y dimension of one frame -> 24\n",
    "- nu: dimension of the velocity vector -> 2\n",
    "- activation_function: activation function for the convolutional NN layers -> 'tanh'\n",
    "- pooling: type of pooling in NN layers -> 'max'\n",
    "- loss: loss function used for training NN -> 'mse'\n",
    "- train_array: training array -> None\n",
    "- val_array: validation array -> None\n",
    "- hierarchical: bool to determine if a hierarchical AE or conventional AE has to be generated -> False"
   ],
   "metadata": {
    "collapsed": false,
    "pycharm": {
     "name": "#%% md\n"
    }
   }
  },
  {
   "cell_type": "code",
   "execution_count": 5,
   "outputs": [],
   "source": [
    "model = AE()\n",
    "model.u_train, model.u_val, model.u_test = u_train, u_val, u_test"
   ],
   "metadata": {
    "collapsed": false,
    "pycharm": {
     "name": "#%%\n"
    }
   }
  },
  {
   "cell_type": "markdown",
   "source": [
    "The newly generated model is trained. This means that both the encoder, decoder and autoencoder are trained at the same time:"
   ],
   "metadata": {
    "collapsed": false,
    "pycharm": {
     "name": "#%% md\n"
    }
   }
  },
  {
   "cell_type": "code",
   "execution_count": 10,
   "outputs": [
    {
     "name": "stdout",
     "output_type": "stream",
     "text": [
      "Epoch 1/200\n",
      "300/300 [==============================] - 5s 12ms/step - loss: 0.0344 - val_loss: 0.0158\n",
      "Epoch 2/200\n",
      "300/300 [==============================] - 4s 12ms/step - loss: 0.0122 - val_loss: 0.0088\n",
      "Epoch 3/200\n",
      "300/300 [==============================] - 4s 13ms/step - loss: 0.0082 - val_loss: 0.0077\n",
      "Epoch 4/200\n",
      "300/300 [==============================] - 7s 22ms/step - loss: 0.0072 - val_loss: 0.0068\n",
      "Epoch 5/200\n",
      "300/300 [==============================] - 5s 18ms/step - loss: 0.0063 - val_loss: 0.0062\n",
      "Epoch 6/200\n",
      "300/300 [==============================] - 4s 14ms/step - loss: 0.0059 - val_loss: 0.0058\n",
      "Epoch 7/200\n",
      "300/300 [==============================] - 5s 18ms/step - loss: 0.0057 - val_loss: 0.0056\n",
      "Epoch 8/200\n",
      "300/300 [==============================] - 4s 15ms/step - loss: 0.0055 - val_loss: 0.0054\n",
      "Epoch 9/200\n",
      "300/300 [==============================] - 5s 16ms/step - loss: 0.0052 - val_loss: 0.0049\n",
      "Epoch 10/200\n",
      "300/300 [==============================] - 5s 16ms/step - loss: 0.0045 - val_loss: 0.0041\n",
      "Epoch 11/200\n",
      "300/300 [==============================] - 4s 15ms/step - loss: 0.0040 - val_loss: 0.0038\n",
      "Epoch 12/200\n",
      "300/300 [==============================] - 4s 15ms/step - loss: 0.0038 - val_loss: 0.0037\n",
      "Epoch 13/200\n",
      "300/300 [==============================] - 4s 15ms/step - loss: 0.0037 - val_loss: 0.0037\n",
      "Epoch 14/200\n",
      "300/300 [==============================] - 5s 15ms/step - loss: 0.0036 - val_loss: 0.0036\n",
      "Epoch 15/200\n",
      "300/300 [==============================] - 4s 14ms/step - loss: 0.0036 - val_loss: 0.0036\n",
      "Epoch 16/200\n",
      "300/300 [==============================] - 4s 15ms/step - loss: 0.0035 - val_loss: 0.0035\n",
      "Epoch 17/200\n",
      "300/300 [==============================] - 4s 14ms/step - loss: 0.0035 - val_loss: 0.0035\n",
      "Epoch 18/200\n",
      "300/300 [==============================] - 4s 15ms/step - loss: 0.0035 - val_loss: 0.0035\n",
      "Epoch 19/200\n",
      "300/300 [==============================] - 4s 14ms/step - loss: 0.0034 - val_loss: 0.0034\n",
      "Epoch 20/200\n",
      "300/300 [==============================] - 4s 13ms/step - loss: 0.0034 - val_loss: 0.0034\n",
      "Epoch 21/200\n",
      "300/300 [==============================] - 4s 14ms/step - loss: 0.0034 - val_loss: 0.0034\n",
      "Epoch 22/200\n",
      "300/300 [==============================] - 4s 14ms/step - loss: 0.0034 - val_loss: 0.0034\n",
      "Epoch 23/200\n",
      "300/300 [==============================] - 4s 13ms/step - loss: 0.0034 - val_loss: 0.0034\n",
      "Epoch 24/200\n",
      "300/300 [==============================] - 4s 14ms/step - loss: 0.0034 - val_loss: 0.0034\n",
      "Epoch 25/200\n",
      "300/300 [==============================] - 5s 15ms/step - loss: 0.0034 - val_loss: 0.0033\n",
      "Epoch 26/200\n",
      "300/300 [==============================] - 4s 15ms/step - loss: 0.0033 - val_loss: 0.0033\n",
      "Epoch 27/200\n",
      "300/300 [==============================] - 4s 14ms/step - loss: 0.0033 - val_loss: 0.0033\n",
      "Epoch 28/200\n",
      "300/300 [==============================] - 5s 16ms/step - loss: 0.0033 - val_loss: 0.0033\n",
      "Epoch 29/200\n",
      "300/300 [==============================] - 5s 16ms/step - loss: 0.0033 - val_loss: 0.0033\n",
      "Epoch 30/200\n",
      "300/300 [==============================] - 4s 15ms/step - loss: 0.0033 - val_loss: 0.0033\n",
      "Epoch 31/200\n",
      "300/300 [==============================] - 4s 15ms/step - loss: 0.0033 - val_loss: 0.0033\n",
      "Epoch 32/200\n",
      "300/300 [==============================] - 5s 16ms/step - loss: 0.0033 - val_loss: 0.0033\n",
      "Epoch 33/200\n",
      "300/300 [==============================] - 4s 15ms/step - loss: 0.0033 - val_loss: 0.0033\n",
      "Epoch 34/200\n",
      "300/300 [==============================] - 4s 14ms/step - loss: 0.0033 - val_loss: 0.0033\n",
      "Epoch 35/200\n",
      "300/300 [==============================] - 4s 15ms/step - loss: 0.0033 - val_loss: 0.0033\n",
      "Epoch 36/200\n",
      "300/300 [==============================] - 5s 16ms/step - loss: 0.0033 - val_loss: 0.0033\n",
      "Epoch 37/200\n",
      "300/300 [==============================] - 4s 13ms/step - loss: 0.0033 - val_loss: 0.0033\n",
      "Epoch 38/200\n",
      "300/300 [==============================] - 4s 13ms/step - loss: 0.0033 - val_loss: 0.0033\n",
      "Epoch 39/200\n",
      "300/300 [==============================] - 4s 14ms/step - loss: 0.0033 - val_loss: 0.0033\n",
      "Epoch 40/200\n",
      "300/300 [==============================] - 4s 14ms/step - loss: 0.0033 - val_loss: 0.0033\n",
      "Epoch 41/200\n",
      "300/300 [==============================] - 4s 14ms/step - loss: 0.0033 - val_loss: 0.0033\n",
      "Epoch 42/200\n",
      "300/300 [==============================] - 4s 14ms/step - loss: 0.0033 - val_loss: 0.0033\n",
      "Epoch 43/200\n",
      "300/300 [==============================] - 4s 14ms/step - loss: 0.0033 - val_loss: 0.0033\n",
      "Epoch 44/200\n",
      "300/300 [==============================] - 5s 15ms/step - loss: 0.0033 - val_loss: 0.0033\n",
      "Epoch 45/200\n",
      "300/300 [==============================] - 4s 15ms/step - loss: 0.0033 - val_loss: 0.0033\n",
      "Epoch 46/200\n",
      "300/300 [==============================] - 5s 15ms/step - loss: 0.0033 - val_loss: 0.0033\n",
      "Epoch 47/200\n",
      "300/300 [==============================] - 4s 15ms/step - loss: 0.0033 - val_loss: 0.0033\n",
      "Epoch 48/200\n",
      "300/300 [==============================] - 4s 15ms/step - loss: 0.0033 - val_loss: 0.0033\n",
      "Epoch 49/200\n",
      "300/300 [==============================] - 5s 16ms/step - loss: 0.0033 - val_loss: 0.0033\n",
      "Epoch 50/200\n",
      "300/300 [==============================] - 4s 14ms/step - loss: 0.0033 - val_loss: 0.0033\n",
      "Epoch 51/200\n",
      "300/300 [==============================] - 4s 15ms/step - loss: 0.0033 - val_loss: 0.0033\n",
      "Epoch 52/200\n",
      "300/300 [==============================] - 4s 14ms/step - loss: 0.0033 - val_loss: 0.0032\n",
      "Epoch 53/200\n",
      "300/300 [==============================] - 5s 16ms/step - loss: 0.0032 - val_loss: 0.0032\n",
      "Epoch 54/200\n",
      "300/300 [==============================] - 5s 15ms/step - loss: 0.0032 - val_loss: 0.0032\n",
      "Epoch 55/200\n",
      "300/300 [==============================] - 4s 15ms/step - loss: 0.0032 - val_loss: 0.0032\n",
      "Epoch 56/200\n",
      "300/300 [==============================] - 4s 15ms/step - loss: 0.0032 - val_loss: 0.0032\n",
      "Epoch 57/200\n",
      "300/300 [==============================] - 5s 16ms/step - loss: 0.0032 - val_loss: 0.0032\n",
      "Epoch 58/200\n",
      "300/300 [==============================] - 4s 15ms/step - loss: 0.0032 - val_loss: 0.0032\n",
      "Epoch 59/200\n",
      "300/300 [==============================] - 4s 15ms/step - loss: 0.0032 - val_loss: 0.0032\n",
      "Epoch 60/200\n",
      "300/300 [==============================] - 5s 15ms/step - loss: 0.0032 - val_loss: 0.0032\n",
      "Epoch 61/200\n",
      "300/300 [==============================] - 4s 14ms/step - loss: 0.0032 - val_loss: 0.0032\n",
      "Epoch 62/200\n",
      "300/300 [==============================] - 4s 15ms/step - loss: 0.0032 - val_loss: 0.0032\n",
      "Epoch 63/200\n",
      "300/300 [==============================] - 4s 14ms/step - loss: 0.0032 - val_loss: 0.0032\n",
      "Epoch 64/200\n",
      "300/300 [==============================] - 5s 15ms/step - loss: 0.0032 - val_loss: 0.0032\n",
      "Epoch 65/200\n",
      "300/300 [==============================] - 4s 14ms/step - loss: 0.0032 - val_loss: 0.0032\n",
      "Epoch 66/200\n",
      "300/300 [==============================] - 4s 14ms/step - loss: 0.0032 - val_loss: 0.0032\n",
      "Epoch 67/200\n",
      "300/300 [==============================] - 5s 15ms/step - loss: 0.0032 - val_loss: 0.0032\n",
      "Epoch 68/200\n",
      "300/300 [==============================] - 4s 15ms/step - loss: 0.0032 - val_loss: 0.0032\n",
      "Epoch 69/200\n",
      "300/300 [==============================] - 4s 15ms/step - loss: 0.0032 - val_loss: 0.0032\n",
      "Epoch 70/200\n",
      "300/300 [==============================] - 5s 16ms/step - loss: 0.0032 - val_loss: 0.0032\n",
      "Epoch 71/200\n",
      "300/300 [==============================] - 5s 16ms/step - loss: 0.0032 - val_loss: 0.0032\n",
      "Epoch 72/200\n",
      "300/300 [==============================] - 5s 16ms/step - loss: 0.0032 - val_loss: 0.0032\n",
      "Epoch 73/200\n",
      "300/300 [==============================] - 5s 16ms/step - loss: 0.0032 - val_loss: 0.0032\n",
      "Epoch 74/200\n",
      "300/300 [==============================] - 4s 15ms/step - loss: 0.0032 - val_loss: 0.0032\n",
      "Epoch 75/200\n",
      "300/300 [==============================] - 4s 14ms/step - loss: 0.0032 - val_loss: 0.0032\n",
      "Epoch 76/200\n",
      "300/300 [==============================] - 5s 16ms/step - loss: 0.0032 - val_loss: 0.0032\n",
      "Epoch 77/200\n",
      "300/300 [==============================] - 5s 16ms/step - loss: 0.0032 - val_loss: 0.0032\n",
      "Epoch 78/200\n",
      "300/300 [==============================] - 4s 14ms/step - loss: 0.0032 - val_loss: 0.0032\n",
      "Epoch 79/200\n",
      "300/300 [==============================] - 4s 13ms/step - loss: 0.0032 - val_loss: 0.0032\n",
      "Epoch 80/200\n",
      "300/300 [==============================] - 4s 14ms/step - loss: 0.0032 - val_loss: 0.0032\n",
      "Epoch 81/200\n",
      "300/300 [==============================] - 5s 16ms/step - loss: 0.0032 - val_loss: 0.0032\n",
      "Epoch 82/200\n",
      "300/300 [==============================] - 4s 14ms/step - loss: 0.0032 - val_loss: 0.0032\n",
      "Epoch 83/200\n",
      "300/300 [==============================] - 4s 14ms/step - loss: 0.0032 - val_loss: 0.0032\n",
      "Epoch 84/200\n",
      "300/300 [==============================] - 4s 14ms/step - loss: 0.0032 - val_loss: 0.0032\n",
      "Epoch 85/200\n",
      "300/300 [==============================] - 4s 15ms/step - loss: 0.0032 - val_loss: 0.0032\n",
      "Epoch 86/200\n",
      "300/300 [==============================] - 4s 14ms/step - loss: 0.0032 - val_loss: 0.0032\n",
      "Epoch 87/200\n",
      "300/300 [==============================] - 4s 14ms/step - loss: 0.0032 - val_loss: 0.0032\n",
      "Epoch 88/200\n",
      "300/300 [==============================] - 5s 15ms/step - loss: 0.0032 - val_loss: 0.0032\n",
      "Epoch 89/200\n",
      "300/300 [==============================] - 4s 14ms/step - loss: 0.0032 - val_loss: 0.0032\n",
      "Epoch 90/200\n",
      "300/300 [==============================] - 4s 14ms/step - loss: 0.0032 - val_loss: 0.0032\n",
      "Epoch 91/200\n",
      "300/300 [==============================] - 4s 14ms/step - loss: 0.0032 - val_loss: 0.0032\n",
      "Epoch 92/200\n",
      "300/300 [==============================] - 4s 14ms/step - loss: 0.0032 - val_loss: 0.0031\n",
      "Epoch 93/200\n",
      "300/300 [==============================] - 4s 14ms/step - loss: 0.0031 - val_loss: 0.0031\n",
      "Epoch 94/200\n",
      "300/300 [==============================] - 4s 14ms/step - loss: 0.0031 - val_loss: 0.0031\n",
      "Epoch 95/200\n",
      "300/300 [==============================] - 4s 15ms/step - loss: 0.0031 - val_loss: 0.0031\n",
      "Epoch 96/200\n",
      "300/300 [==============================] - 5s 15ms/step - loss: 0.0031 - val_loss: 0.0031\n",
      "Epoch 97/200\n",
      "300/300 [==============================] - 4s 14ms/step - loss: 0.0031 - val_loss: 0.0031\n",
      "Epoch 98/200\n",
      "300/300 [==============================] - 4s 14ms/step - loss: 0.0031 - val_loss: 0.0031\n",
      "Epoch 99/200\n",
      "300/300 [==============================] - 4s 14ms/step - loss: 0.0031 - val_loss: 0.0031\n",
      "Epoch 100/200\n",
      "300/300 [==============================] - 4s 14ms/step - loss: 0.0031 - val_loss: 0.0031\n",
      "Epoch 101/200\n",
      "300/300 [==============================] - 4s 14ms/step - loss: 0.0031 - val_loss: 0.0031\n",
      "Epoch 102/200\n",
      "300/300 [==============================] - 5s 16ms/step - loss: 0.0030 - val_loss: 0.0030\n",
      "Epoch 103/200\n",
      "300/300 [==============================] - 5s 15ms/step - loss: 0.0030 - val_loss: 0.0030\n",
      "Epoch 104/200\n",
      "300/300 [==============================] - 5s 16ms/step - loss: 0.0030 - val_loss: 0.0030\n",
      "Epoch 105/200\n",
      "300/300 [==============================] - 5s 16ms/step - loss: 0.0030 - val_loss: 0.0030\n",
      "Epoch 106/200\n",
      "300/300 [==============================] - 4s 15ms/step - loss: 0.0030 - val_loss: 0.0030\n",
      "Epoch 107/200\n",
      "300/300 [==============================] - 5s 15ms/step - loss: 0.0030 - val_loss: 0.0030\n",
      "Epoch 108/200\n",
      "300/300 [==============================] - 4s 15ms/step - loss: 0.0030 - val_loss: 0.0030\n",
      "Epoch 109/200\n",
      "300/300 [==============================] - 5s 16ms/step - loss: 0.0030 - val_loss: 0.0030\n",
      "Epoch 110/200\n",
      "300/300 [==============================] - 5s 16ms/step - loss: 0.0030 - val_loss: 0.0030\n",
      "Epoch 111/200\n",
      "300/300 [==============================] - 5s 16ms/step - loss: 0.0030 - val_loss: 0.0030\n",
      "Epoch 112/200\n",
      "300/300 [==============================] - 5s 17ms/step - loss: 0.0030 - val_loss: 0.0030\n",
      "Epoch 113/200\n",
      "300/300 [==============================] - 5s 15ms/step - loss: 0.0030 - val_loss: 0.0030\n",
      "Epoch 114/200\n",
      "300/300 [==============================] - 5s 16ms/step - loss: 0.0029 - val_loss: 0.0029\n",
      "Epoch 115/200\n",
      "300/300 [==============================] - 5s 16ms/step - loss: 0.0029 - val_loss: 0.0029\n",
      "Epoch 116/200\n",
      "300/300 [==============================] - 5s 16ms/step - loss: 0.0029 - val_loss: 0.0029\n",
      "Epoch 117/200\n",
      "300/300 [==============================] - 4s 15ms/step - loss: 0.0029 - val_loss: 0.0029\n",
      "Epoch 118/200\n",
      "300/300 [==============================] - 5s 15ms/step - loss: 0.0029 - val_loss: 0.0029\n",
      "Epoch 119/200\n",
      "300/300 [==============================] - 5s 15ms/step - loss: 0.0029 - val_loss: 0.0029\n",
      "Epoch 120/200\n",
      "300/300 [==============================] - 5s 15ms/step - loss: 0.0029 - val_loss: 0.0029\n",
      "Epoch 121/200\n",
      "300/300 [==============================] - 4s 14ms/step - loss: 0.0029 - val_loss: 0.0029\n",
      "Epoch 122/200\n",
      "300/300 [==============================] - 4s 15ms/step - loss: 0.0029 - val_loss: 0.0029\n",
      "Epoch 123/200\n",
      "300/300 [==============================] - 5s 15ms/step - loss: 0.0029 - val_loss: 0.0029\n",
      "Epoch 124/200\n",
      "300/300 [==============================] - 4s 14ms/step - loss: 0.0029 - val_loss: 0.0029\n",
      "Epoch 125/200\n",
      "300/300 [==============================] - 4s 15ms/step - loss: 0.0029 - val_loss: 0.0029\n",
      "Epoch 126/200\n",
      "300/300 [==============================] - 5s 15ms/step - loss: 0.0029 - val_loss: 0.0029\n",
      "Epoch 127/200\n",
      "300/300 [==============================] - 5s 17ms/step - loss: 0.0029 - val_loss: 0.0029\n",
      "Epoch 128/200\n",
      "300/300 [==============================] - 5s 18ms/step - loss: 0.0029 - val_loss: 0.0029\n",
      "Epoch 129/200\n",
      "300/300 [==============================] - 5s 17ms/step - loss: 0.0029 - val_loss: 0.0029\n",
      "Epoch 130/200\n",
      "300/300 [==============================] - 5s 16ms/step - loss: 0.0029 - val_loss: 0.0029\n",
      "Epoch 131/200\n",
      "300/300 [==============================] - 5s 16ms/step - loss: 0.0029 - val_loss: 0.0029\n",
      "Epoch 132/200\n",
      "300/300 [==============================] - 5s 15ms/step - loss: 0.0028 - val_loss: 0.0029\n",
      "Epoch 133/200\n",
      "300/300 [==============================] - 4s 14ms/step - loss: 0.0028 - val_loss: 0.0029\n",
      "Epoch 134/200\n",
      "300/300 [==============================] - 4s 13ms/step - loss: 0.0028 - val_loss: 0.0029\n",
      "Epoch 135/200\n",
      "300/300 [==============================] - 4s 14ms/step - loss: 0.0028 - val_loss: 0.0029\n",
      "Epoch 136/200\n",
      "300/300 [==============================] - 4s 14ms/step - loss: 0.0028 - val_loss: 0.0029\n",
      "Epoch 137/200\n",
      "300/300 [==============================] - 4s 14ms/step - loss: 0.0028 - val_loss: 0.0029\n",
      "Epoch 138/200\n",
      "300/300 [==============================] - 4s 14ms/step - loss: 0.0028 - val_loss: 0.0029\n",
      "Epoch 139/200\n",
      "300/300 [==============================] - 4s 14ms/step - loss: 0.0028 - val_loss: 0.0029\n",
      "Epoch 140/200\n",
      "300/300 [==============================] - 4s 12ms/step - loss: 0.0028 - val_loss: 0.0029\n",
      "Epoch 141/200\n",
      "300/300 [==============================] - 4s 12ms/step - loss: 0.0028 - val_loss: 0.0029\n",
      "Epoch 142/200\n",
      "300/300 [==============================] - 4s 15ms/step - loss: 0.0028 - val_loss: 0.0029\n",
      "Epoch 143/200\n",
      "300/300 [==============================] - 4s 14ms/step - loss: 0.0028 - val_loss: 0.0028\n",
      "Epoch 144/200\n",
      "300/300 [==============================] - 4s 13ms/step - loss: 0.0028 - val_loss: 0.0028\n",
      "Epoch 145/200\n",
      "300/300 [==============================] - 4s 14ms/step - loss: 0.0028 - val_loss: 0.0028\n",
      "Epoch 146/200\n",
      "300/300 [==============================] - 4s 15ms/step - loss: 0.0028 - val_loss: 0.0028\n",
      "Epoch 147/200\n",
      "300/300 [==============================] - 4s 14ms/step - loss: 0.0028 - val_loss: 0.0028\n",
      "Epoch 148/200\n",
      "300/300 [==============================] - 4s 14ms/step - loss: 0.0028 - val_loss: 0.0028\n",
      "Epoch 149/200\n",
      "300/300 [==============================] - 4s 14ms/step - loss: 0.0028 - val_loss: 0.0028\n",
      "Epoch 150/200\n",
      "300/300 [==============================] - 4s 15ms/step - loss: 0.0028 - val_loss: 0.0028\n",
      "Epoch 151/200\n",
      "300/300 [==============================] - 4s 14ms/step - loss: 0.0028 - val_loss: 0.0028\n",
      "Epoch 152/200\n",
      "300/300 [==============================] - 4s 14ms/step - loss: 0.0028 - val_loss: 0.0028\n",
      "Epoch 153/200\n",
      "300/300 [==============================] - 5s 15ms/step - loss: 0.0028 - val_loss: 0.0028\n",
      "Epoch 154/200\n",
      "300/300 [==============================] - 8s 26ms/step - loss: 0.0028 - val_loss: 0.0028\n",
      "Epoch 155/200\n",
      "300/300 [==============================] - 5s 17ms/step - loss: 0.0028 - val_loss: 0.0028\n",
      "Epoch 156/200\n",
      "300/300 [==============================] - 5s 15ms/step - loss: 0.0028 - val_loss: 0.0028\n",
      "Epoch 157/200\n",
      "300/300 [==============================] - 4s 15ms/step - loss: 0.0028 - val_loss: 0.0028\n",
      "Epoch 158/200\n",
      "300/300 [==============================] - 4s 14ms/step - loss: 0.0028 - val_loss: 0.0028\n",
      "Epoch 159/200\n",
      "300/300 [==============================] - 5s 16ms/step - loss: 0.0028 - val_loss: 0.0028\n",
      "Epoch 160/200\n",
      "300/300 [==============================] - 5s 17ms/step - loss: 0.0028 - val_loss: 0.0028\n",
      "Epoch 161/200\n",
      "300/300 [==============================] - 4s 15ms/step - loss: 0.0028 - val_loss: 0.0028\n",
      "Epoch 162/200\n",
      "300/300 [==============================] - 4s 15ms/step - loss: 0.0028 - val_loss: 0.0028\n",
      "Epoch 163/200\n",
      "300/300 [==============================] - 4s 14ms/step - loss: 0.0028 - val_loss: 0.0028\n",
      "Epoch 164/200\n",
      "300/300 [==============================] - 4s 13ms/step - loss: 0.0028 - val_loss: 0.0028\n",
      "Epoch 165/200\n",
      "300/300 [==============================] - 5s 15ms/step - loss: 0.0028 - val_loss: 0.0028\n",
      "Epoch 166/200\n",
      "300/300 [==============================] - 4s 14ms/step - loss: 0.0027 - val_loss: 0.0028\n",
      "Epoch 167/200\n",
      "300/300 [==============================] - 4s 13ms/step - loss: 0.0027 - val_loss: 0.0028\n",
      "Epoch 168/200\n",
      "300/300 [==============================] - 4s 14ms/step - loss: 0.0027 - val_loss: 0.0027\n",
      "Epoch 169/200\n",
      "300/300 [==============================] - 5s 15ms/step - loss: 0.0027 - val_loss: 0.0027\n",
      "Epoch 170/200\n",
      "300/300 [==============================] - 5s 15ms/step - loss: 0.0027 - val_loss: 0.0027\n",
      "Epoch 171/200\n",
      "300/300 [==============================] - 4s 14ms/step - loss: 0.0027 - val_loss: 0.0027\n",
      "Epoch 172/200\n",
      "300/300 [==============================] - 5s 15ms/step - loss: 0.0027 - val_loss: 0.0027\n",
      "Epoch 173/200\n",
      "300/300 [==============================] - 4s 15ms/step - loss: 0.0027 - val_loss: 0.0027\n",
      "Epoch 174/200\n",
      "300/300 [==============================] - 4s 14ms/step - loss: 0.0027 - val_loss: 0.0027\n",
      "Epoch 175/200\n",
      "300/300 [==============================] - 4s 14ms/step - loss: 0.0027 - val_loss: 0.0027\n",
      "Epoch 176/200\n",
      "300/300 [==============================] - 5s 15ms/step - loss: 0.0027 - val_loss: 0.0027\n",
      "Epoch 177/200\n",
      "300/300 [==============================] - 4s 14ms/step - loss: 0.0027 - val_loss: 0.0027\n",
      "Epoch 178/200\n",
      "300/300 [==============================] - 4s 13ms/step - loss: 0.0027 - val_loss: 0.0027\n",
      "Epoch 179/200\n",
      "300/300 [==============================] - 4s 14ms/step - loss: 0.0027 - val_loss: 0.0027\n",
      "Epoch 180/200\n",
      "300/300 [==============================] - 5s 16ms/step - loss: 0.0027 - val_loss: 0.0027\n",
      "Epoch 181/200\n",
      "300/300 [==============================] - 4s 15ms/step - loss: 0.0027 - val_loss: 0.0027\n",
      "Epoch 182/200\n",
      "300/300 [==============================] - 4s 15ms/step - loss: 0.0027 - val_loss: 0.0027\n",
      "Epoch 183/200\n",
      "300/300 [==============================] - 4s 15ms/step - loss: 0.0027 - val_loss: 0.0027\n",
      "Epoch 184/200\n",
      "300/300 [==============================] - 5s 15ms/step - loss: 0.0027 - val_loss: 0.0027\n",
      "Epoch 185/200\n",
      "300/300 [==============================] - 4s 15ms/step - loss: 0.0027 - val_loss: 0.0027\n",
      "Epoch 186/200\n",
      "300/300 [==============================] - 4s 15ms/step - loss: 0.0027 - val_loss: 0.0027\n",
      "Epoch 187/200\n",
      "300/300 [==============================] - 5s 16ms/step - loss: 0.0027 - val_loss: 0.0027\n",
      "Epoch 188/200\n",
      "300/300 [==============================] - 5s 17ms/step - loss: 0.0027 - val_loss: 0.0027\n",
      "Epoch 189/200\n",
      "300/300 [==============================] - 5s 16ms/step - loss: 0.0027 - val_loss: 0.0027\n",
      "Epoch 190/200\n",
      "300/300 [==============================] - 4s 15ms/step - loss: 0.0027 - val_loss: 0.0027\n",
      "Epoch 191/200\n",
      "300/300 [==============================] - 5s 15ms/step - loss: 0.0027 - val_loss: 0.0027\n",
      "Epoch 192/200\n",
      "300/300 [==============================] - 5s 15ms/step - loss: 0.0027 - val_loss: 0.0027\n",
      "Epoch 193/200\n",
      "300/300 [==============================] - 5s 15ms/step - loss: 0.0027 - val_loss: 0.0027\n",
      "Epoch 194/200\n",
      "300/300 [==============================] - 5s 15ms/step - loss: 0.0027 - val_loss: 0.0027\n",
      "Epoch 195/200\n",
      "300/300 [==============================] - 5s 16ms/step - loss: 0.0027 - val_loss: 0.0027\n",
      "Epoch 196/200\n",
      "300/300 [==============================] - 4s 15ms/step - loss: 0.0027 - val_loss: 0.0027\n",
      "Epoch 197/200\n",
      "300/300 [==============================] - 5s 15ms/step - loss: 0.0027 - val_loss: 0.0027\n",
      "Epoch 198/200\n",
      "300/300 [==============================] - 4s 14ms/step - loss: 0.0027 - val_loss: 0.0027\n",
      "Epoch 199/200\n",
      "300/300 [==============================] - 5s 16ms/step - loss: 0.0027 - val_loss: 0.0027\n",
      "Epoch 200/200\n",
      "300/300 [==============================] - 4s 15ms/step - loss: 0.0027 - val_loss: 0.0027\n"
     ]
    }
   ],
   "source": [
    "model.fit(u_train, u_val)"
   ],
   "metadata": {
    "collapsed": false,
    "pycharm": {
     "name": "#%%\n"
    }
   }
  },
  {
   "cell_type": "markdown",
   "source": [
    "The predictions of the autoencoder can be tested using the u_test data set and the function passthrough. This last one decodes the test set with the trained encoder and then inputs the generated latent spaces into the decoder to finally predict the magnitudes of the reconstructed flow field. Once the predictions are made, the reconstructed frames and the original frames can also be plotted:"
   ],
   "metadata": {
    "collapsed": false,
    "pycharm": {
     "name": "#%% md\n"
    }
   }
  },
  {
   "cell_type": "code",
   "execution_count": 12,
   "outputs": [
    {
     "data": {
      "text/plain": "<Figure size 640x480 with 2 Axes>",
      "image/png": "[encoded data removed]"
     },
     "metadata": {},
     "output_type": "display_data"
    },
    {
     "data": {
      "text/plain": "<Figure size 640x480 with 2 Axes>",
      "image/png": "[encoded data removed]"
     },
     "metadata": {},
     "output_type": "display_data"
    }
   ],
   "source": [
    "reconstructed = model.passthrough(u_test)\n",
    "AE.u_v_plot(reconstructed[0])\n",
    "AE.u_v_plot(reconstructed[1])"
   ],
   "metadata": {
    "collapsed": false,
    "pycharm": {
     "name": "#%%\n"
    }
   }
  },
  {
   "cell_type": "markdown",
   "source": [
    "Another important step in generating the AE model is to check its performance. This means looking at the accuracy with how the autoencoder reconstructs the flow field. Two values are reported:\n",
    "- Absolute percentage: the percentage of the absolute difference in magnitude between the reconstructed and original flow\n",
    "- Squared percentage: the percentage of the squared difference in magnitude between the reconstructed and the original flow"
   ],
   "metadata": {
    "collapsed": false,
    "pycharm": {
     "name": "#%% md\n"
    }
   }
  },
  {
   "cell_type": "code",
   "execution_count": 16,
   "outputs": [
    {
     "name": "stdout",
     "output_type": "stream",
     "text": [
      "Absolute %: 91.752 +- 5.23799991607666\n",
      "Squared %: 99.306 +- 1.0880000591278076\n"
     ]
    }
   ],
   "source": [
    "performance = model.performance()\n",
    "print(f'Absolute %: {round(performance[\"abs_percentage\"], 3)} +- {round(performance[\"abs_std\"], 3)}')\n",
    "print(f'Squared %: {round(performance[\"sqr_percentage\"], 3)} +- {round(performance[\"sqr_std\"], 3)}')"
   ],
   "metadata": {
    "collapsed": false,
    "pycharm": {
     "name": "#%%\n"
    }
   }
  },
  {
   "cell_type": "markdown",
   "source": [
    "Finally, the last step would be to check if the reconstructed flows are physical by looking at their average divergence. The used method calculates the total divergence along each frame and then returns the maximum, minimum and average value throughout the time series. In order for a flow to be physical, the sum of the divergences has to be zero for each of the reconstructed frames. Though, outliers are present, therefore, until the values are close to zero, the flows can be assumed to respect the law of mass conservation."
   ],
   "metadata": {
    "collapsed": false,
    "pycharm": {
     "name": "#%% md\n"
    }
   }
  },
  {
   "cell_type": "code",
   "execution_count": 17,
   "outputs": [
    {
     "name": "stdout",
     "output_type": "stream",
     "text": [
      "max: 0.3381669521331787\n",
      "min: -2.0029296875\n",
      "avg: -0.36916595697402954\n"
     ]
    },
    {
     "data": {
      "text/plain": "(0.33816695, -2.0029297, -0.36916596)"
     },
     "execution_count": 17,
     "metadata": {},
     "output_type": "execute_result"
    }
   ],
   "source": [
    "model.verification(u_test)"
   ],
   "metadata": {
    "collapsed": false,
    "pycharm": {
     "name": "#%%\n"
    }
   }
  },
  {
   "cell_type": "markdown",
   "source": [
    "Now that the user knows how to create an autoencoder, how to load an already saved model will be discussed. In this case, the only difference comes from the creation of the model. In fact, AE() and AE.fit() do not have to be called again but the built-in function AE.create_trained() can be used. This method accepts only one parameter that can be an integer between 1 and 3. Each number connects to a different model:\n",
    "- 1: Physical Autoencoder\n",
    "- 2: Hierarchical Autoencoder\n",
    "- 3: Intermediate Tuned Autoencoder"
   ],
   "metadata": {
    "collapsed": false,
    "pycharm": {
     "name": "#%% md\n"
    }
   }
  },
  {
   "cell_type": "code",
   "execution_count": 18,
   "outputs": [
    {
     "name": "stdout",
     "output_type": "stream",
     "text": [
      "WARNING:tensorflow:No training configuration found in the save file, so the model was *not* compiled. Compile it manually.\n",
      "WARNING:tensorflow:No training configuration found in the save file, so the model was *not* compiled. Compile it manually.\n"
     ]
    }
   ],
   "source": [
    "model = AE.create_trained(1)"
   ],
   "metadata": {
    "collapsed": false,
    "pycharm": {
     "name": "#%%\n"
    }
   }
  },
  {
   "cell_type": "markdown",
   "source": [
    "Once this is completed, all the steps presented above (from attribute initialization) can be performed in the same way."
   ],
   "metadata": {
    "collapsed": false,
    "pycharm": {
     "name": "#%% md\n"
    }
   }
  }
 ],
 "metadata": {
  "kernelspec": {
   "display_name": "Python 3",
   "language": "python",
   "name": "python3"
  },
  "language_info": {
   "codemirror_mode": {
    "name": "ipython",
    "version": 2
   },
   "file_extension": ".py",
   "mimetype": "text/x-python",
   "name": "python",
   "nbconvert_exporter": "python",
   "pygments_lexer": "ipython2",
   "version": "2.7.6"
  }
 },
 "nbformat": 4,
 "nbformat_minor": 0
}