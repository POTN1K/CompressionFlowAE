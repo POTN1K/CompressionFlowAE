{
 "cells": [
  {
   "cell_type": "markdown",
   "source": [
    "## Analysis of the Modes in the Latent Space ##\n",
    "\n",
    "In this notebook, we will demonstrate how the team conducted the physical analysis of the modes in the latent space. The best performing autoencoder developed by the team possessed four modes in its latent space, and based on this a hierarchical autoencoder was developed utilising the same number of modes in its latent space. Due to its inherent property of producing ordered modes, this latter model is the one that will be used in the present investigation."
   ],
   "metadata": {
    "collapsed": false
   }
  },
  {
   "cell_type": "markdown",
   "source": [
    "Firstly, we will create a trained model, after which we will define a number of functions to enable the visualization of the effects of introducing each mode. We can then select, as an example, a certain frame from which to take the latent space for our exploration."
   ],
   "metadata": {
    "collapsed": false
   }
  },
  {
   "cell_type": "code",
   "execution_count": 3,
   "outputs": [
    {
     "ename": "ModuleNotFoundError",
     "evalue": "No module named 'FlowCompression'",
     "output_type": "error",
     "traceback": [
      "\u001B[1;31m---------------------------------------------------------------------------\u001B[0m",
      "\u001B[1;31mModuleNotFoundError\u001B[0m                       Traceback (most recent call last)",
      "Cell \u001B[1;32mIn[3], line 1\u001B[0m\n\u001B[1;32m----> 1\u001B[0m \u001B[38;5;28;01mfrom\u001B[39;00m \u001B[38;5;21;01mFlowCompression\u001B[39;00m \u001B[38;5;28;01mimport\u001B[39;00m AE\n\u001B[0;32m      2\u001B[0m \u001B[38;5;28;01mimport\u001B[39;00m \u001B[38;5;21;01mnumpy\u001B[39;00m \u001B[38;5;28;01mas\u001B[39;00m \u001B[38;5;21;01mnp\u001B[39;00m\n\u001B[0;32m      4\u001B[0m \u001B[38;5;66;03m#Create a trained model, considering both u and v velocity. Passing argument 2 means creating a hierarchical model.\u001B[39;00m\n",
      "\u001B[1;31mModuleNotFoundError\u001B[0m: No module named 'FlowCompression'"
     ]
    }
   ],
   "source": [
    "from FlowCompression import AE\n",
    "import numpy as np\n",
    "\n",
    "#Create a trained model, considering both u and v velocity. Passing argument 2 means creating a hierarchical model.\n",
    "model = AE.create_trained(2)\n",
    "\n",
    "#All the frames of the flow data given by the client.\n",
    "u_all = AE.preprocess(split=False)"
   ],
   "metadata": {
    "collapsed": false
   }
  },
  {
   "cell_type": "markdown",
   "source": [
    "Now that we have our model, some functions can be defined for visualization."
   ],
   "metadata": {
    "collapsed": false
   }
  },
  {
   "cell_type": "code",
   "execution_count": null,
   "outputs": [],
   "source": [
    "def generation_from_original(time_series):\n",
    "    \"\"\"\n",
    "    Generate latent spaces given a certain time series of flows\n",
    "    :param time_series: series of frame taken from the data set provided by the client\n",
    "    :return: array of all the latent spaces related to such time frames\n",
    "    \"\"\"\n",
    "    latent_space_original = model.encode(time_series)\n",
    "    return latent_space_original\n",
    "\n",
    "\n",
    "def generate(latent_space):\n",
    "    \"\"\"\n",
    "    Generate artificial flow from a given latent space\n",
    "    :param latent_space: [m1,m2,m3,m4], values between -1 to 1\n",
    "    :return: artificial flow [24,24,2]\n",
    "    \"\"\"\n",
    "    artificial = model.decode(np.array([[[latent_space]]]))\n",
    "    return artificial\n",
    "\n",
    "\n",
    "# ------- ANALYSIS OF THE HIERARCHICAL AUTOENCODER ----\n",
    "\n",
    "def hierarchical_visual(time_series, n_frame):\n",
    "    \"\"\"\n",
    "    Plots the reconstruction effects of the different modes given an initial frame to reconstruct\n",
    "    :param time_series: time series of frame where to choose from\n",
    "    :param n_frame: fram number which should be used as a starting point for the reconstruction\n",
    "    :return: None\n",
    "    \"\"\"\n",
    "    # Generate latent space related to the frame selected\n",
    "    final_latent = model.encode(u_all[51])[0, 0, 0, :]\n",
    "\n",
    "    # To see the effect of every mode, every previous component should take the value from 'final_latent' while the\n",
    "    # next components should be 0\n",
    "    latent_1 = [final_latent[0], 0, 0, 0]\n",
    "    latent_2 = [final_latent[0], final_latent[1], 0, 0]\n",
    "    latent_3 = [final_latent[i] for i in range(3)] + [0]\n",
    "\n",
    "    # generate flow with each personalized latent. Subtraction is needed to eliminate effects of previous modes\n",
    "    m1_effect = generate(latent_1)\n",
    "    m2_effect = generate(latent_2) - m1_effect\n",
    "    m3_effect = generate(latent_3) - generate(latent_2)\n",
    "    m4_effect = generate(final_latent) - generate(latent_3)\n",
    "\n",
    "    # Plot the reconstructed flow and the effects of each mode (different cmap for m2, m3, m4 because both + and -\n",
    "    AE.u_v_plot(generate(final_latent))\n",
    "    AE.u_v_plot(m1_effect, title=f'Effect of mode 1 with latent {latent_1}')\n",
    "    AE.u_v_plot(m2_effect, title=f'Effect of mode 2 with latent {latent_2}', color='seismic', vmin=None, vmax=None)\n",
    "    AE.u_v_plot(m3_effect, title=f'Effect of mode 3 with latent {latent_3}', color='seismic', vmin=None, vmax=None)\n",
    "    AE.u_v_plot(m4_effect, title=f'Effect of mode 4 with latent {final_latent}', color='seismic', vmin=None, vmax=None)\n"
   ],
   "metadata": {
    "collapsed": false
   }
  },
  {
   "cell_type": "markdown",
   "source": [
    "Now that we have a model and functions to analyze the modes in this model, a frame can be selected to conduct the visualization. The team randomly selected the 52nd frame of the total given frames, which was also used in the report. By calling hierarchical_visual(u_all, 51), the plots showing the effect of including each additional mode to the latent space of frame 51 will be shown."
   ],
   "metadata": {
    "collapsed": false
   }
  },
  {
   "cell_type": "code",
   "execution_count": null,
   "outputs": [],
   "source": [
    "hierarchical_visual(u_all, 51)"
   ],
   "metadata": {
    "collapsed": false
   }
  },
  {
   "cell_type": "markdown",
   "source": [
    "With these plots, we can now make the same conclusions regarding the behaviour of each mode as were laid out in the report. To further characterize this, we can now visualize the effects of including a small disturbance to each mode, both increasing and decreasing the original value for that mode. We first define a domain, so that"
   ],
   "metadata": {
    "collapsed": false
   }
  },
  {
   "cell_type": "code",
   "execution_count": null,
   "outputs": [],
   "source": [
    "# Determine the domain over which the disturbance will be taken\n",
    "domain = np.arange(-1, 1, 0.1)\n",
    "\n",
    "# Take one sample from data set and calculate latent space\n",
    "sample_latent = model.encode(u_all[0])  # [[[[-0.03541018  0.24589653  0.5007892  -0.19181845]]]]\n",
    "\n",
    "# Plot the original reconstructed flow\n",
    "AE.u_v_plot(model.decode(sample_latent))"
   ],
   "metadata": {
    "collapsed": false
   }
  }
 ],
 "metadata": {
  "kernelspec": {
   "display_name": "Python 3",
   "language": "python",
   "name": "python3"
  },
  "language_info": {
   "codemirror_mode": {
    "name": "ipython",
    "version": 2
   },
   "file_extension": ".py",
   "mimetype": "text/x-python",
   "name": "python",
   "nbconvert_exporter": "python",
   "pygments_lexer": "ipython2",
   "version": "2.7.6"
  }
 },
 "nbformat": 4,
 "nbformat_minor": 0
}
