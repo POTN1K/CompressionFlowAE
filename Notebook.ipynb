{
 "cells": [
  {
   "cell_type": "markdown",
   "id": "c582ee2c",
   "metadata": {},
   "source": [
    "To run a .py file here,import it here. If it is in functions, call those functions, else just import and the .py will run <br>\n",
    "Before running, read README.md to connect to Google Colab"
   ]
  },
  {
   "cell_type": "code",
   "execution_count": null,
   "id": "8f8a8433",
   "metadata": {},
   "outputs": [
    {
     "name": "stdout",
     "output_type": "stream",
     "text": [
      "Model 0\n",
      "Model 1\n",
      "Model 2\n",
      "Model 3\n",
      "Model 4\n",
      "Model 5\n",
      "Model 6\n",
      "Model 7\n",
      "Model 8\n",
      "Model 9\n",
      "Model 10\n",
      "Model 11\n",
      "Model 12\n",
      "Model 13\n",
      "Model 14\n",
      "Model 15\n",
      "Model 16\n",
      "Model 17\n",
      "Model 18\n",
      "Model 19\n",
      "Model 20\n",
      "Model 21\n",
      "Model 22\n",
      "Model 23\n",
      "Model 24\n",
      "Model 25\n",
      "Model 26\n",
      "Model 27\n",
      "Model 28\n",
      "Model 29\n",
      "Model 30\n",
      "Model 31\n",
      "Model 32\n",
      "Model 33\n",
      "Model 34\n",
      "Model 35\n",
      "Model 36\n",
      "Model 37\n",
      "Model 38\n",
      "Model 39\n",
      "Model 40\n",
      "Model 41\n",
      "Model 42\n",
      "Model 43\n",
      "Model 44\n",
      "Model 45\n",
      "Model 46\n",
      "Model 47\n",
      "Model 48\n",
      "Model 49\n",
      "Model 50\n",
      "Model 51\n",
      "Model 52\n",
      "Model 53\n",
      "Model 54\n",
      "Model 55\n",
      "Model 56\n",
      "Model 57\n",
      "Model 58\n",
      "Model 59\n",
      "Model 60\n",
      "Model 61\n",
      "Model 62\n",
      "Model 63\n",
      "Model 64\n",
      "Model 65\n",
      "Model 66\n",
      "Model 67\n",
      "Model 68\n",
      "Model 69\n",
      "Model 70\n",
      "Model 71\n",
      "Model 72\n",
      "Model 73\n",
      "Model 74\n",
      "Model 75\n",
      "Model 76\n"
     ]
    }
   ],
   "source": [
    "import TuningAnalysis"
   ]
  }
 ],
 "metadata": {
  "kernelspec": {
   "display_name": "JupyterEnv",
   "language": "python",
   "name": "jupyterenv"
  },
  "language_info": {
   "codemirror_mode": {
    "name": "ipython",
    "version": 3
   },
   "file_extension": ".py",
   "mimetype": "text/x-python",
   "name": "python",
   "nbconvert_exporter": "python",
   "pygments_lexer": "ipython3",
   "version": "3.9.12"
  }
 },
 "nbformat": 4,
 "nbformat_minor": 5
}
