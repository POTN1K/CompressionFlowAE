{
 "cells": [
  {
   "cell_type": "markdown",
   "id": "c5968412",
   "metadata": {},
   "source": [
    "To run a .py file here,import it here. If it is in functions, call those functions, else just import and the .py will run <br>\n",
    "Before running, read README.md to connect to Google Colab"
   ]
  },
  {
   "cell_type": "code",
   "execution_count": null,
   "id": "8f8a8433",
   "metadata": {
    "scrolled": false
   },
   "outputs": [],
   "source": [
    "import TuningDivision.TuningAnalysis"
   ]
  },
  {
   "cell_type": "code",
   "execution_count": null,
   "id": "3518a848",
   "metadata": {},
   "outputs": [],
   "source": []
  }
 ],
 "metadata": {
  "kernelspec": {
   "display_name": "JupyterEnv",
   "language": "python",
   "name": "jupyterenv"
  },
  "language_info": {
   "codemirror_mode": {
    "name": "ipython",
    "version": 3
   },
   "file_extension": ".py",
   "mimetype": "text/x-python",
   "name": "python",
   "nbconvert_exporter": "python",
   "pygments_lexer": "ipython3",
   "version": "3.9.12"
  }
 },
 "nbformat": 4,
 "nbformat_minor": 5
}
